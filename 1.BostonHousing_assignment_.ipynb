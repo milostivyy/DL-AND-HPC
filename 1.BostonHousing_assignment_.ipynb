{
 "cells": [
  {
   "cell_type": "code",
   "execution_count": 1,
   "metadata": {
    "_cell_guid": "b1076dfc-b9ad-4769-8c92-a6c4dae69d19",
    "_uuid": "8f2839f25d086af736a60e9eeb907d3b93b6e0e5",
    "id": "HLNjY1NnIgL0",
    "tags": []
   },
   "outputs": [],
   "source": [
    "import numpy as np\n",
    "import pandas as pd"
   ]
  },
  {
   "cell_type": "code",
   "execution_count": 43,
   "metadata": {
    "id": "AbCdwpvVI9G9"
   },
   "outputs": [],
   "source": [
    "data_url = \"data/housing.xls\"\n",
    "raw_df = pd.read_csv(data_url, sep=\"\\s+\", skiprows=22)"
   ]
  },
  {
   "cell_type": "code",
   "execution_count": 44,
   "metadata": {
    "colab": {
     "base_uri": "https://localhost:8080/",
     "height": 424
    },
    "id": "STx1e67RJoUY",
    "outputId": "d132b7aa-a192-4a7a-b9a7-53548df1d662"
   },
   "outputs": [
    {
     "data": {
      "text/html": [
       "<div>\n",
       "<style scoped>\n",
       "    .dataframe tbody tr th:only-of-type {\n",
       "        vertical-align: middle;\n",
       "    }\n",
       "\n",
       "    .dataframe tbody tr th {\n",
       "        vertical-align: top;\n",
       "    }\n",
       "\n",
       "    .dataframe thead th {\n",
       "        text-align: right;\n",
       "    }\n",
       "</style>\n",
       "<table border=\"1\" class=\"dataframe\">\n",
       "  <thead>\n",
       "    <tr style=\"text-align: right;\">\n",
       "      <th></th>\n",
       "      <th>1.23247</th>\n",
       "      <th>0.00</th>\n",
       "      <th>8.140</th>\n",
       "      <th>0</th>\n",
       "      <th>0.5380</th>\n",
       "      <th>6.1420</th>\n",
       "      <th>91.70</th>\n",
       "      <th>3.9769</th>\n",
       "      <th>4</th>\n",
       "      <th>307.0</th>\n",
       "      <th>21.00</th>\n",
       "      <th>396.90</th>\n",
       "      <th>18.72</th>\n",
       "      <th>15.20</th>\n",
       "    </tr>\n",
       "  </thead>\n",
       "  <tbody>\n",
       "    <tr>\n",
       "      <th>0</th>\n",
       "      <td>0.98843</td>\n",
       "      <td>0.0</td>\n",
       "      <td>8.14</td>\n",
       "      <td>0</td>\n",
       "      <td>0.538</td>\n",
       "      <td>5.813</td>\n",
       "      <td>100.0</td>\n",
       "      <td>4.0952</td>\n",
       "      <td>4</td>\n",
       "      <td>307.0</td>\n",
       "      <td>21.0</td>\n",
       "      <td>394.54</td>\n",
       "      <td>19.88</td>\n",
       "      <td>14.5</td>\n",
       "    </tr>\n",
       "    <tr>\n",
       "      <th>1</th>\n",
       "      <td>0.75026</td>\n",
       "      <td>0.0</td>\n",
       "      <td>8.14</td>\n",
       "      <td>0</td>\n",
       "      <td>0.538</td>\n",
       "      <td>5.924</td>\n",
       "      <td>94.1</td>\n",
       "      <td>4.3996</td>\n",
       "      <td>4</td>\n",
       "      <td>307.0</td>\n",
       "      <td>21.0</td>\n",
       "      <td>394.33</td>\n",
       "      <td>16.30</td>\n",
       "      <td>15.6</td>\n",
       "    </tr>\n",
       "    <tr>\n",
       "      <th>2</th>\n",
       "      <td>0.84054</td>\n",
       "      <td>0.0</td>\n",
       "      <td>8.14</td>\n",
       "      <td>0</td>\n",
       "      <td>0.538</td>\n",
       "      <td>5.599</td>\n",
       "      <td>85.7</td>\n",
       "      <td>4.4546</td>\n",
       "      <td>4</td>\n",
       "      <td>307.0</td>\n",
       "      <td>21.0</td>\n",
       "      <td>303.42</td>\n",
       "      <td>16.51</td>\n",
       "      <td>13.9</td>\n",
       "    </tr>\n",
       "    <tr>\n",
       "      <th>3</th>\n",
       "      <td>0.67191</td>\n",
       "      <td>0.0</td>\n",
       "      <td>8.14</td>\n",
       "      <td>0</td>\n",
       "      <td>0.538</td>\n",
       "      <td>5.813</td>\n",
       "      <td>90.3</td>\n",
       "      <td>4.6820</td>\n",
       "      <td>4</td>\n",
       "      <td>307.0</td>\n",
       "      <td>21.0</td>\n",
       "      <td>376.88</td>\n",
       "      <td>14.81</td>\n",
       "      <td>16.6</td>\n",
       "    </tr>\n",
       "    <tr>\n",
       "      <th>4</th>\n",
       "      <td>0.95577</td>\n",
       "      <td>0.0</td>\n",
       "      <td>8.14</td>\n",
       "      <td>0</td>\n",
       "      <td>0.538</td>\n",
       "      <td>6.047</td>\n",
       "      <td>88.8</td>\n",
       "      <td>4.4534</td>\n",
       "      <td>4</td>\n",
       "      <td>307.0</td>\n",
       "      <td>21.0</td>\n",
       "      <td>306.38</td>\n",
       "      <td>17.28</td>\n",
       "      <td>14.8</td>\n",
       "    </tr>\n",
       "    <tr>\n",
       "      <th>...</th>\n",
       "      <td>...</td>\n",
       "      <td>...</td>\n",
       "      <td>...</td>\n",
       "      <td>...</td>\n",
       "      <td>...</td>\n",
       "      <td>...</td>\n",
       "      <td>...</td>\n",
       "      <td>...</td>\n",
       "      <td>...</td>\n",
       "      <td>...</td>\n",
       "      <td>...</td>\n",
       "      <td>...</td>\n",
       "      <td>...</td>\n",
       "      <td>...</td>\n",
       "    </tr>\n",
       "    <tr>\n",
       "      <th>478</th>\n",
       "      <td>0.06263</td>\n",
       "      <td>0.0</td>\n",
       "      <td>11.93</td>\n",
       "      <td>0</td>\n",
       "      <td>0.573</td>\n",
       "      <td>6.593</td>\n",
       "      <td>69.1</td>\n",
       "      <td>2.4786</td>\n",
       "      <td>1</td>\n",
       "      <td>273.0</td>\n",
       "      <td>21.0</td>\n",
       "      <td>391.99</td>\n",
       "      <td>9.67</td>\n",
       "      <td>22.4</td>\n",
       "    </tr>\n",
       "    <tr>\n",
       "      <th>479</th>\n",
       "      <td>0.04527</td>\n",
       "      <td>0.0</td>\n",
       "      <td>11.93</td>\n",
       "      <td>0</td>\n",
       "      <td>0.573</td>\n",
       "      <td>6.120</td>\n",
       "      <td>76.7</td>\n",
       "      <td>2.2875</td>\n",
       "      <td>1</td>\n",
       "      <td>273.0</td>\n",
       "      <td>21.0</td>\n",
       "      <td>396.90</td>\n",
       "      <td>9.08</td>\n",
       "      <td>20.6</td>\n",
       "    </tr>\n",
       "    <tr>\n",
       "      <th>480</th>\n",
       "      <td>0.06076</td>\n",
       "      <td>0.0</td>\n",
       "      <td>11.93</td>\n",
       "      <td>0</td>\n",
       "      <td>0.573</td>\n",
       "      <td>6.976</td>\n",
       "      <td>91.0</td>\n",
       "      <td>2.1675</td>\n",
       "      <td>1</td>\n",
       "      <td>273.0</td>\n",
       "      <td>21.0</td>\n",
       "      <td>396.90</td>\n",
       "      <td>5.64</td>\n",
       "      <td>23.9</td>\n",
       "    </tr>\n",
       "    <tr>\n",
       "      <th>481</th>\n",
       "      <td>0.10959</td>\n",
       "      <td>0.0</td>\n",
       "      <td>11.93</td>\n",
       "      <td>0</td>\n",
       "      <td>0.573</td>\n",
       "      <td>6.794</td>\n",
       "      <td>89.3</td>\n",
       "      <td>2.3889</td>\n",
       "      <td>1</td>\n",
       "      <td>273.0</td>\n",
       "      <td>21.0</td>\n",
       "      <td>393.45</td>\n",
       "      <td>6.48</td>\n",
       "      <td>22.0</td>\n",
       "    </tr>\n",
       "    <tr>\n",
       "      <th>482</th>\n",
       "      <td>0.04741</td>\n",
       "      <td>0.0</td>\n",
       "      <td>11.93</td>\n",
       "      <td>0</td>\n",
       "      <td>0.573</td>\n",
       "      <td>6.030</td>\n",
       "      <td>80.8</td>\n",
       "      <td>2.5050</td>\n",
       "      <td>1</td>\n",
       "      <td>273.0</td>\n",
       "      <td>21.0</td>\n",
       "      <td>396.90</td>\n",
       "      <td>7.88</td>\n",
       "      <td>11.9</td>\n",
       "    </tr>\n",
       "  </tbody>\n",
       "</table>\n",
       "<p>483 rows × 14 columns</p>\n",
       "</div>"
      ],
      "text/plain": [
       "     1.23247  0.00  8.140  0  0.5380  6.1420  91.70  3.9769  4  307.0  21.00  \\\n",
       "0    0.98843   0.0   8.14  0   0.538   5.813  100.0  4.0952  4  307.0   21.0   \n",
       "1    0.75026   0.0   8.14  0   0.538   5.924   94.1  4.3996  4  307.0   21.0   \n",
       "2    0.84054   0.0   8.14  0   0.538   5.599   85.7  4.4546  4  307.0   21.0   \n",
       "3    0.67191   0.0   8.14  0   0.538   5.813   90.3  4.6820  4  307.0   21.0   \n",
       "4    0.95577   0.0   8.14  0   0.538   6.047   88.8  4.4534  4  307.0   21.0   \n",
       "..       ...   ...    ... ..     ...     ...    ...     ... ..    ...    ...   \n",
       "478  0.06263   0.0  11.93  0   0.573   6.593   69.1  2.4786  1  273.0   21.0   \n",
       "479  0.04527   0.0  11.93  0   0.573   6.120   76.7  2.2875  1  273.0   21.0   \n",
       "480  0.06076   0.0  11.93  0   0.573   6.976   91.0  2.1675  1  273.0   21.0   \n",
       "481  0.10959   0.0  11.93  0   0.573   6.794   89.3  2.3889  1  273.0   21.0   \n",
       "482  0.04741   0.0  11.93  0   0.573   6.030   80.8  2.5050  1  273.0   21.0   \n",
       "\n",
       "     396.90  18.72  15.20  \n",
       "0    394.54  19.88   14.5  \n",
       "1    394.33  16.30   15.6  \n",
       "2    303.42  16.51   13.9  \n",
       "3    376.88  14.81   16.6  \n",
       "4    306.38  17.28   14.8  \n",
       "..      ...    ...    ...  \n",
       "478  391.99   9.67   22.4  \n",
       "479  396.90   9.08   20.6  \n",
       "480  396.90   5.64   23.9  \n",
       "481  393.45   6.48   22.0  \n",
       "482  396.90   7.88   11.9  \n",
       "\n",
       "[483 rows x 14 columns]"
      ]
     },
     "execution_count": 44,
     "metadata": {},
     "output_type": "execute_result"
    }
   ],
   "source": [
    "raw_df"
   ]
  },
  {
   "cell_type": "code",
   "execution_count": 45,
   "metadata": {
    "id": "DluRI44nIgL1",
    "tags": []
   },
   "outputs": [],
   "source": [
    "data = pd.DataFrame(raw_df)"
   ]
  },
  {
   "cell_type": "code",
   "execution_count": 46,
   "metadata": {
    "colab": {
     "base_uri": "https://localhost:8080/",
     "height": 206
    },
    "id": "oTaXhKt7IgL2",
    "outputId": "b85709d2-7f2d-4d18-8a07-1db162c71bcd",
    "tags": []
   },
   "outputs": [
    {
     "data": {
      "text/html": [
       "<div>\n",
       "<style scoped>\n",
       "    .dataframe tbody tr th:only-of-type {\n",
       "        vertical-align: middle;\n",
       "    }\n",
       "\n",
       "    .dataframe tbody tr th {\n",
       "        vertical-align: top;\n",
       "    }\n",
       "\n",
       "    .dataframe thead th {\n",
       "        text-align: right;\n",
       "    }\n",
       "</style>\n",
       "<table border=\"1\" class=\"dataframe\">\n",
       "  <thead>\n",
       "    <tr style=\"text-align: right;\">\n",
       "      <th></th>\n",
       "      <th>1.23247</th>\n",
       "      <th>0.00</th>\n",
       "      <th>8.140</th>\n",
       "      <th>0</th>\n",
       "      <th>0.5380</th>\n",
       "      <th>6.1420</th>\n",
       "      <th>91.70</th>\n",
       "      <th>3.9769</th>\n",
       "      <th>4</th>\n",
       "      <th>307.0</th>\n",
       "      <th>21.00</th>\n",
       "      <th>396.90</th>\n",
       "      <th>18.72</th>\n",
       "      <th>15.20</th>\n",
       "    </tr>\n",
       "  </thead>\n",
       "  <tbody>\n",
       "    <tr>\n",
       "      <th>0</th>\n",
       "      <td>0.98843</td>\n",
       "      <td>0.0</td>\n",
       "      <td>8.14</td>\n",
       "      <td>0</td>\n",
       "      <td>0.538</td>\n",
       "      <td>5.813</td>\n",
       "      <td>100.0</td>\n",
       "      <td>4.0952</td>\n",
       "      <td>4</td>\n",
       "      <td>307.0</td>\n",
       "      <td>21.0</td>\n",
       "      <td>394.54</td>\n",
       "      <td>19.88</td>\n",
       "      <td>14.5</td>\n",
       "    </tr>\n",
       "    <tr>\n",
       "      <th>1</th>\n",
       "      <td>0.75026</td>\n",
       "      <td>0.0</td>\n",
       "      <td>8.14</td>\n",
       "      <td>0</td>\n",
       "      <td>0.538</td>\n",
       "      <td>5.924</td>\n",
       "      <td>94.1</td>\n",
       "      <td>4.3996</td>\n",
       "      <td>4</td>\n",
       "      <td>307.0</td>\n",
       "      <td>21.0</td>\n",
       "      <td>394.33</td>\n",
       "      <td>16.30</td>\n",
       "      <td>15.6</td>\n",
       "    </tr>\n",
       "    <tr>\n",
       "      <th>2</th>\n",
       "      <td>0.84054</td>\n",
       "      <td>0.0</td>\n",
       "      <td>8.14</td>\n",
       "      <td>0</td>\n",
       "      <td>0.538</td>\n",
       "      <td>5.599</td>\n",
       "      <td>85.7</td>\n",
       "      <td>4.4546</td>\n",
       "      <td>4</td>\n",
       "      <td>307.0</td>\n",
       "      <td>21.0</td>\n",
       "      <td>303.42</td>\n",
       "      <td>16.51</td>\n",
       "      <td>13.9</td>\n",
       "    </tr>\n",
       "    <tr>\n",
       "      <th>3</th>\n",
       "      <td>0.67191</td>\n",
       "      <td>0.0</td>\n",
       "      <td>8.14</td>\n",
       "      <td>0</td>\n",
       "      <td>0.538</td>\n",
       "      <td>5.813</td>\n",
       "      <td>90.3</td>\n",
       "      <td>4.6820</td>\n",
       "      <td>4</td>\n",
       "      <td>307.0</td>\n",
       "      <td>21.0</td>\n",
       "      <td>376.88</td>\n",
       "      <td>14.81</td>\n",
       "      <td>16.6</td>\n",
       "    </tr>\n",
       "    <tr>\n",
       "      <th>4</th>\n",
       "      <td>0.95577</td>\n",
       "      <td>0.0</td>\n",
       "      <td>8.14</td>\n",
       "      <td>0</td>\n",
       "      <td>0.538</td>\n",
       "      <td>6.047</td>\n",
       "      <td>88.8</td>\n",
       "      <td>4.4534</td>\n",
       "      <td>4</td>\n",
       "      <td>307.0</td>\n",
       "      <td>21.0</td>\n",
       "      <td>306.38</td>\n",
       "      <td>17.28</td>\n",
       "      <td>14.8</td>\n",
       "    </tr>\n",
       "  </tbody>\n",
       "</table>\n",
       "</div>"
      ],
      "text/plain": [
       "   1.23247  0.00  8.140  0  0.5380  6.1420  91.70  3.9769  4  307.0  21.00  \\\n",
       "0  0.98843   0.0   8.14  0   0.538   5.813  100.0  4.0952  4  307.0   21.0   \n",
       "1  0.75026   0.0   8.14  0   0.538   5.924   94.1  4.3996  4  307.0   21.0   \n",
       "2  0.84054   0.0   8.14  0   0.538   5.599   85.7  4.4546  4  307.0   21.0   \n",
       "3  0.67191   0.0   8.14  0   0.538   5.813   90.3  4.6820  4  307.0   21.0   \n",
       "4  0.95577   0.0   8.14  0   0.538   6.047   88.8  4.4534  4  307.0   21.0   \n",
       "\n",
       "   396.90  18.72  15.20  \n",
       "0  394.54  19.88   14.5  \n",
       "1  394.33  16.30   15.6  \n",
       "2  303.42  16.51   13.9  \n",
       "3  376.88  14.81   16.6  \n",
       "4  306.38  17.28   14.8  "
      ]
     },
     "execution_count": 46,
     "metadata": {},
     "output_type": "execute_result"
    }
   ],
   "source": [
    "data.head()"
   ]
  },
  {
   "cell_type": "code",
   "execution_count": 38,
   "metadata": {
    "id": "CkvJcdnpIgL3",
    "tags": []
   },
   "outputs": [],
   "source": [
    "data.columns = ['CRIM', 'ZN', 'INDUS', 'CHAS', 'NOX', 'RM', 'AGE', 'DIS', 'RAD', 'TAX', 'PTRATIO', 'B', 'LSTAT',\"PRICE\"]"
   ]
  },
  {
   "cell_type": "code",
   "execution_count": 39,
   "metadata": {
    "colab": {
     "base_uri": "https://localhost:8080/",
     "height": 206
    },
    "id": "Ak4w9yWnIgL5",
    "outputId": "37c6419f-b0ac-49b5-b107-648b420617ca",
    "tags": []
   },
   "outputs": [
    {
     "data": {
      "text/html": [
       "<div>\n",
       "<style scoped>\n",
       "    .dataframe tbody tr th:only-of-type {\n",
       "        vertical-align: middle;\n",
       "    }\n",
       "\n",
       "    .dataframe tbody tr th {\n",
       "        vertical-align: top;\n",
       "    }\n",
       "\n",
       "    .dataframe thead th {\n",
       "        text-align: right;\n",
       "    }\n",
       "</style>\n",
       "<table border=\"1\" class=\"dataframe\">\n",
       "  <thead>\n",
       "    <tr style=\"text-align: right;\">\n",
       "      <th></th>\n",
       "      <th>CRIM</th>\n",
       "      <th>ZN</th>\n",
       "      <th>INDUS</th>\n",
       "      <th>CHAS</th>\n",
       "      <th>NOX</th>\n",
       "      <th>RM</th>\n",
       "      <th>AGE</th>\n",
       "      <th>DIS</th>\n",
       "      <th>RAD</th>\n",
       "      <th>TAX</th>\n",
       "      <th>PTRATIO</th>\n",
       "      <th>B</th>\n",
       "      <th>LSTAT</th>\n",
       "      <th>PRICE</th>\n",
       "    </tr>\n",
       "  </thead>\n",
       "  <tbody>\n",
       "    <tr>\n",
       "      <th>0</th>\n",
       "      <td>1.23247</td>\n",
       "      <td>0.0</td>\n",
       "      <td>8.14</td>\n",
       "      <td>0</td>\n",
       "      <td>0.538</td>\n",
       "      <td>6.142</td>\n",
       "      <td>91.7</td>\n",
       "      <td>3.9769</td>\n",
       "      <td>4</td>\n",
       "      <td>307.0</td>\n",
       "      <td>21.0</td>\n",
       "      <td>396.90</td>\n",
       "      <td>18.72</td>\n",
       "      <td>15.2</td>\n",
       "    </tr>\n",
       "    <tr>\n",
       "      <th>1</th>\n",
       "      <td>0.98843</td>\n",
       "      <td>0.0</td>\n",
       "      <td>8.14</td>\n",
       "      <td>0</td>\n",
       "      <td>0.538</td>\n",
       "      <td>5.813</td>\n",
       "      <td>100.0</td>\n",
       "      <td>4.0952</td>\n",
       "      <td>4</td>\n",
       "      <td>307.0</td>\n",
       "      <td>21.0</td>\n",
       "      <td>394.54</td>\n",
       "      <td>19.88</td>\n",
       "      <td>14.5</td>\n",
       "    </tr>\n",
       "    <tr>\n",
       "      <th>2</th>\n",
       "      <td>0.75026</td>\n",
       "      <td>0.0</td>\n",
       "      <td>8.14</td>\n",
       "      <td>0</td>\n",
       "      <td>0.538</td>\n",
       "      <td>5.924</td>\n",
       "      <td>94.1</td>\n",
       "      <td>4.3996</td>\n",
       "      <td>4</td>\n",
       "      <td>307.0</td>\n",
       "      <td>21.0</td>\n",
       "      <td>394.33</td>\n",
       "      <td>16.30</td>\n",
       "      <td>15.6</td>\n",
       "    </tr>\n",
       "    <tr>\n",
       "      <th>3</th>\n",
       "      <td>0.84054</td>\n",
       "      <td>0.0</td>\n",
       "      <td>8.14</td>\n",
       "      <td>0</td>\n",
       "      <td>0.538</td>\n",
       "      <td>5.599</td>\n",
       "      <td>85.7</td>\n",
       "      <td>4.4546</td>\n",
       "      <td>4</td>\n",
       "      <td>307.0</td>\n",
       "      <td>21.0</td>\n",
       "      <td>303.42</td>\n",
       "      <td>16.51</td>\n",
       "      <td>13.9</td>\n",
       "    </tr>\n",
       "    <tr>\n",
       "      <th>4</th>\n",
       "      <td>0.67191</td>\n",
       "      <td>0.0</td>\n",
       "      <td>8.14</td>\n",
       "      <td>0</td>\n",
       "      <td>0.538</td>\n",
       "      <td>5.813</td>\n",
       "      <td>90.3</td>\n",
       "      <td>4.6820</td>\n",
       "      <td>4</td>\n",
       "      <td>307.0</td>\n",
       "      <td>21.0</td>\n",
       "      <td>376.88</td>\n",
       "      <td>14.81</td>\n",
       "      <td>16.6</td>\n",
       "    </tr>\n",
       "  </tbody>\n",
       "</table>\n",
       "</div>"
      ],
      "text/plain": [
       "      CRIM   ZN  INDUS  CHAS    NOX     RM    AGE     DIS  RAD    TAX  \\\n",
       "0  1.23247  0.0   8.14     0  0.538  6.142   91.7  3.9769    4  307.0   \n",
       "1  0.98843  0.0   8.14     0  0.538  5.813  100.0  4.0952    4  307.0   \n",
       "2  0.75026  0.0   8.14     0  0.538  5.924   94.1  4.3996    4  307.0   \n",
       "3  0.84054  0.0   8.14     0  0.538  5.599   85.7  4.4546    4  307.0   \n",
       "4  0.67191  0.0   8.14     0  0.538  5.813   90.3  4.6820    4  307.0   \n",
       "\n",
       "   PTRATIO       B  LSTAT  PRICE  \n",
       "0     21.0  396.90  18.72   15.2  \n",
       "1     21.0  394.54  19.88   14.5  \n",
       "2     21.0  394.33  16.30   15.6  \n",
       "3     21.0  303.42  16.51   13.9  \n",
       "4     21.0  376.88  14.81   16.6  "
      ]
     },
     "execution_count": 39,
     "metadata": {},
     "output_type": "execute_result"
    }
   ],
   "source": [
    "data.head()"
   ]
  },
  {
   "cell_type": "code",
   "execution_count": 40,
   "metadata": {},
   "outputs": [],
   "source": [
    "data.to_csv(\"data/boston.csv\",index=False)"
   ]
  },
  {
   "cell_type": "code",
   "execution_count": 41,
   "metadata": {
    "colab": {
     "base_uri": "https://localhost:8080/"
    },
    "id": "1Cts6hxMIgL6",
    "outputId": "f44d59a9-03a0-4592-a4f3-45677a55ce27",
    "tags": []
   },
   "outputs": [
    {
     "name": "stdout",
     "output_type": "stream",
     "text": [
      "(484, 14)\n"
     ]
    }
   ],
   "source": [
    "print(data.shape)"
   ]
  },
  {
   "cell_type": "code",
   "execution_count": 42,
   "metadata": {
    "colab": {
     "base_uri": "https://localhost:8080/"
    },
    "id": "EYcspYIIIgL6",
    "outputId": "788d8fe7-95bf-44fe-fe6b-4493a9e56760",
    "tags": []
   },
   "outputs": [
    {
     "data": {
      "text/plain": [
       "CRIM       0\n",
       "ZN         0\n",
       "INDUS      0\n",
       "CHAS       0\n",
       "NOX        0\n",
       "RM         0\n",
       "AGE        0\n",
       "DIS        0\n",
       "RAD        0\n",
       "TAX        0\n",
       "PTRATIO    0\n",
       "B          0\n",
       "LSTAT      0\n",
       "PRICE      0\n",
       "dtype: int64"
      ]
     },
     "execution_count": 42,
     "metadata": {},
     "output_type": "execute_result"
    }
   ],
   "source": [
    "data.isnull().sum()"
   ]
  },
  {
   "cell_type": "markdown",
   "metadata": {
    "id": "kmONLoPLIgL8"
   },
   "source": [
    "No null values in the dataset, no missing value treatement needed"
   ]
  },
  {
   "cell_type": "code",
   "execution_count": 12,
   "metadata": {
    "colab": {
     "base_uri": "https://localhost:8080/",
     "height": 300
    },
    "id": "anrCBBwYIgL8",
    "outputId": "2454c4f9-e05e-4f39-f19e-4e951f864486",
    "tags": []
   },
   "outputs": [
    {
     "data": {
      "text/html": [
       "<div>\n",
       "<style scoped>\n",
       "    .dataframe tbody tr th:only-of-type {\n",
       "        vertical-align: middle;\n",
       "    }\n",
       "\n",
       "    .dataframe tbody tr th {\n",
       "        vertical-align: top;\n",
       "    }\n",
       "\n",
       "    .dataframe thead th {\n",
       "        text-align: right;\n",
       "    }\n",
       "</style>\n",
       "<table border=\"1\" class=\"dataframe\">\n",
       "  <thead>\n",
       "    <tr style=\"text-align: right;\">\n",
       "      <th></th>\n",
       "      <th>CRIM</th>\n",
       "      <th>ZN</th>\n",
       "      <th>INDUS</th>\n",
       "      <th>CHAS</th>\n",
       "      <th>NOX</th>\n",
       "      <th>RM</th>\n",
       "      <th>AGE</th>\n",
       "      <th>DIS</th>\n",
       "      <th>RAD</th>\n",
       "      <th>TAX</th>\n",
       "      <th>PTRATIO</th>\n",
       "      <th>B</th>\n",
       "      <th>LSTAT</th>\n",
       "      <th>PRICE</th>\n",
       "    </tr>\n",
       "  </thead>\n",
       "  <tbody>\n",
       "    <tr>\n",
       "      <th>count</th>\n",
       "      <td>484.000000</td>\n",
       "      <td>484.000000</td>\n",
       "      <td>484.000000</td>\n",
       "      <td>484.000000</td>\n",
       "      <td>484.000000</td>\n",
       "      <td>484.000000</td>\n",
       "      <td>484.000000</td>\n",
       "      <td>484.000000</td>\n",
       "      <td>484.000000</td>\n",
       "      <td>484.000000</td>\n",
       "      <td>484.000000</td>\n",
       "      <td>484.000000</td>\n",
       "      <td>484.000000</td>\n",
       "      <td>484.000000</td>\n",
       "    </tr>\n",
       "    <tr>\n",
       "      <th>mean</th>\n",
       "      <td>3.759989</td>\n",
       "      <td>11.662190</td>\n",
       "      <td>11.330310</td>\n",
       "      <td>0.072314</td>\n",
       "      <td>0.556437</td>\n",
       "      <td>6.290605</td>\n",
       "      <td>68.518595</td>\n",
       "      <td>3.735627</td>\n",
       "      <td>9.807851</td>\n",
       "      <td>413.599174</td>\n",
       "      <td>18.463017</td>\n",
       "      <td>355.297190</td>\n",
       "      <td>12.679174</td>\n",
       "      <td>22.544008</td>\n",
       "    </tr>\n",
       "    <tr>\n",
       "      <th>std</th>\n",
       "      <td>8.766728</td>\n",
       "      <td>23.764895</td>\n",
       "      <td>6.936898</td>\n",
       "      <td>0.259275</td>\n",
       "      <td>0.118018</td>\n",
       "      <td>0.710895</td>\n",
       "      <td>28.447452</td>\n",
       "      <td>2.124833</td>\n",
       "      <td>8.813355</td>\n",
       "      <td>170.252171</td>\n",
       "      <td>2.145556</td>\n",
       "      <td>92.997197</td>\n",
       "      <td>7.167669</td>\n",
       "      <td>9.315331</td>\n",
       "    </tr>\n",
       "    <tr>\n",
       "      <th>min</th>\n",
       "      <td>0.009060</td>\n",
       "      <td>0.000000</td>\n",
       "      <td>0.460000</td>\n",
       "      <td>0.000000</td>\n",
       "      <td>0.385000</td>\n",
       "      <td>3.561000</td>\n",
       "      <td>2.900000</td>\n",
       "      <td>1.129600</td>\n",
       "      <td>1.000000</td>\n",
       "      <td>187.000000</td>\n",
       "      <td>12.600000</td>\n",
       "      <td>0.320000</td>\n",
       "      <td>1.730000</td>\n",
       "      <td>5.000000</td>\n",
       "    </tr>\n",
       "    <tr>\n",
       "      <th>25%</th>\n",
       "      <td>0.082155</td>\n",
       "      <td>0.000000</td>\n",
       "      <td>5.130000</td>\n",
       "      <td>0.000000</td>\n",
       "      <td>0.448000</td>\n",
       "      <td>5.884750</td>\n",
       "      <td>43.625000</td>\n",
       "      <td>2.064700</td>\n",
       "      <td>4.000000</td>\n",
       "      <td>279.000000</td>\n",
       "      <td>17.400000</td>\n",
       "      <td>374.650000</td>\n",
       "      <td>6.990000</td>\n",
       "      <td>16.775000</td>\n",
       "    </tr>\n",
       "    <tr>\n",
       "      <th>50%</th>\n",
       "      <td>0.262660</td>\n",
       "      <td>0.000000</td>\n",
       "      <td>9.900000</td>\n",
       "      <td>0.000000</td>\n",
       "      <td>0.538000</td>\n",
       "      <td>6.211500</td>\n",
       "      <td>77.700000</td>\n",
       "      <td>3.057250</td>\n",
       "      <td>5.000000</td>\n",
       "      <td>345.000000</td>\n",
       "      <td>19.100000</td>\n",
       "      <td>391.340000</td>\n",
       "      <td>11.360000</td>\n",
       "      <td>21.200000</td>\n",
       "    </tr>\n",
       "    <tr>\n",
       "      <th>75%</th>\n",
       "      <td>3.896877</td>\n",
       "      <td>20.000000</td>\n",
       "      <td>18.100000</td>\n",
       "      <td>0.000000</td>\n",
       "      <td>0.631000</td>\n",
       "      <td>6.630000</td>\n",
       "      <td>94.100000</td>\n",
       "      <td>5.116700</td>\n",
       "      <td>24.000000</td>\n",
       "      <td>666.000000</td>\n",
       "      <td>20.200000</td>\n",
       "      <td>396.215000</td>\n",
       "      <td>16.992500</td>\n",
       "      <td>25.000000</td>\n",
       "    </tr>\n",
       "    <tr>\n",
       "      <th>max</th>\n",
       "      <td>88.976200</td>\n",
       "      <td>100.000000</td>\n",
       "      <td>27.740000</td>\n",
       "      <td>1.000000</td>\n",
       "      <td>0.871000</td>\n",
       "      <td>8.780000</td>\n",
       "      <td>100.000000</td>\n",
       "      <td>12.126500</td>\n",
       "      <td>24.000000</td>\n",
       "      <td>711.000000</td>\n",
       "      <td>22.000000</td>\n",
       "      <td>396.900000</td>\n",
       "      <td>37.970000</td>\n",
       "      <td>50.000000</td>\n",
       "    </tr>\n",
       "  </tbody>\n",
       "</table>\n",
       "</div>"
      ],
      "text/plain": [
       "             CRIM          ZN       INDUS        CHAS         NOX          RM  \\\n",
       "count  484.000000  484.000000  484.000000  484.000000  484.000000  484.000000   \n",
       "mean     3.759989   11.662190   11.330310    0.072314    0.556437    6.290605   \n",
       "std      8.766728   23.764895    6.936898    0.259275    0.118018    0.710895   \n",
       "min      0.009060    0.000000    0.460000    0.000000    0.385000    3.561000   \n",
       "25%      0.082155    0.000000    5.130000    0.000000    0.448000    5.884750   \n",
       "50%      0.262660    0.000000    9.900000    0.000000    0.538000    6.211500   \n",
       "75%      3.896877   20.000000   18.100000    0.000000    0.631000    6.630000   \n",
       "max     88.976200  100.000000   27.740000    1.000000    0.871000    8.780000   \n",
       "\n",
       "              AGE         DIS         RAD         TAX     PTRATIO           B  \\\n",
       "count  484.000000  484.000000  484.000000  484.000000  484.000000  484.000000   \n",
       "mean    68.518595    3.735627    9.807851  413.599174   18.463017  355.297190   \n",
       "std     28.447452    2.124833    8.813355  170.252171    2.145556   92.997197   \n",
       "min      2.900000    1.129600    1.000000  187.000000   12.600000    0.320000   \n",
       "25%     43.625000    2.064700    4.000000  279.000000   17.400000  374.650000   \n",
       "50%     77.700000    3.057250    5.000000  345.000000   19.100000  391.340000   \n",
       "75%     94.100000    5.116700   24.000000  666.000000   20.200000  396.215000   \n",
       "max    100.000000   12.126500   24.000000  711.000000   22.000000  396.900000   \n",
       "\n",
       "            LSTAT       PRICE  \n",
       "count  484.000000  484.000000  \n",
       "mean    12.679174   22.544008  \n",
       "std      7.167669    9.315331  \n",
       "min      1.730000    5.000000  \n",
       "25%      6.990000   16.775000  \n",
       "50%     11.360000   21.200000  \n",
       "75%     16.992500   25.000000  \n",
       "max     37.970000   50.000000  "
      ]
     },
     "execution_count": 12,
     "metadata": {},
     "output_type": "execute_result"
    }
   ],
   "source": [
    "data.describe()"
   ]
  },
  {
   "cell_type": "markdown",
   "metadata": {
    "id": "D_6HLURYIgL9"
   },
   "source": [
    "This is sometimes very useful, for example if you look at the CRIM the max is 88.97 and 75% of the value is below 3.677083 and mean is 3.613524 so it means the max values is actually an outlier or there are outliers present in the column"
   ]
  },
  {
   "cell_type": "code",
   "execution_count": 13,
   "metadata": {
    "colab": {
     "base_uri": "https://localhost:8080/"
    },
    "id": "WcnS4XguIgL9",
    "outputId": "da86b187-cd60-4e62-95fa-1cf59eef6a34",
    "tags": []
   },
   "outputs": [
    {
     "name": "stdout",
     "output_type": "stream",
     "text": [
      "<class 'pandas.core.frame.DataFrame'>\n",
      "RangeIndex: 484 entries, 0 to 483\n",
      "Data columns (total 14 columns):\n",
      " #   Column   Non-Null Count  Dtype  \n",
      "---  ------   --------------  -----  \n",
      " 0   CRIM     484 non-null    float64\n",
      " 1   ZN       484 non-null    float64\n",
      " 2   INDUS    484 non-null    float64\n",
      " 3   CHAS     484 non-null    int64  \n",
      " 4   NOX      484 non-null    float64\n",
      " 5   RM       484 non-null    float64\n",
      " 6   AGE      484 non-null    float64\n",
      " 7   DIS      484 non-null    float64\n",
      " 8   RAD      484 non-null    int64  \n",
      " 9   TAX      484 non-null    float64\n",
      " 10  PTRATIO  484 non-null    float64\n",
      " 11  B        484 non-null    float64\n",
      " 12  LSTAT    484 non-null    float64\n",
      " 13  PRICE    484 non-null    float64\n",
      "dtypes: float64(12), int64(2)\n",
      "memory usage: 53.1 KB\n"
     ]
    }
   ],
   "source": [
    "data.info()"
   ]
  },
  {
   "cell_type": "markdown",
   "metadata": {
    "id": "PYuuF8myIgL9"
   },
   "source": [
    "<a id = 'visual'></a>\n",
    "# Visualisation"
   ]
  },
  {
   "cell_type": "code",
   "execution_count": 14,
   "metadata": {
    "colab": {
     "base_uri": "https://localhost:8080/",
     "height": 671
    },
    "id": "VVpLBNRWIgL-",
    "outputId": "ca6e719a-7262-4be4-d84f-304fa40741f6",
    "tags": []
   },
   "outputs": [
    {
     "name": "stderr",
     "output_type": "stream",
     "text": [
      "/home/slp/anaconda3/lib/python3.9/site-packages/seaborn/distributions.py:2619: FutureWarning: `distplot` is a deprecated function and will be removed in a future version. Please adapt your code to use either `displot` (a figure-level function with similar flexibility) or `histplot` (an axes-level function for histograms).\n",
      "  warnings.warn(msg, FutureWarning)\n"
     ]
    },
    {
     "data": {
      "text/plain": [
       "<AxesSubplot:xlabel='PRICE', ylabel='Density'>"
      ]
     },
     "execution_count": 14,
     "metadata": {},
     "output_type": "execute_result"
    },
    {
     "data": {
      "image/png": "[encoded data removed]",
      "text/plain": [
       "<Figure size 432x288 with 1 Axes>"
      ]
     },
     "metadata": {
      "needs_background": "light"
     },
     "output_type": "display_data"
    }
   ],
   "source": [
    "import seaborn as sns\n",
    "sns.distplot(data.PRICE)"
   ]
  },
  {
   "cell_type": "markdown",
   "metadata": {
    "id": "ndIJ0vrgIgL-"
   },
   "source": [
    "The distribution seems normal, has not be the data normal we would have perform log transformation or took to square root of the data to make the data normal. Normal distribution is need for the machine learning for better predictiblity of the model"
   ]
  },
  {
   "cell_type": "code",
   "execution_count": 15,
   "metadata": {
    "colab": {
     "base_uri": "https://localhost:8080/",
     "height": 448
    },
    "id": "oXnjP8AxIgL_",
    "outputId": "ca727347-a020-495f-c6a0-0d81f5def2d2",
    "tags": []
   },
   "outputs": [
    {
     "name": "stderr",
     "output_type": "stream",
     "text": [
      "/home/slp/anaconda3/lib/python3.9/site-packages/seaborn/_decorators.py:36: FutureWarning: Pass the following variable as a keyword arg: x. From version 0.12, the only valid positional argument will be `data`, and passing other arguments without an explicit keyword will result in an error or misinterpretation.\n",
      "  warnings.warn(\n"
     ]
    },
    {
     "data": {
      "text/plain": [
       "<AxesSubplot:xlabel='PRICE'>"
      ]
     },
     "execution_count": 15,
     "metadata": {},
     "output_type": "execute_result"
    },
    {
     "data": {
      "image/png": "[encoded data removed]",
      "text/plain": [
       "<Figure size 432x288 with 1 Axes>"
      ]
     },
     "metadata": {
      "needs_background": "light"
     },
     "output_type": "display_data"
    }
   ],
   "source": [
    "sns.boxplot(data.PRICE)"
   ]
  },
  {
   "cell_type": "markdown",
   "metadata": {
    "id": "KVoR0u1_IgL_"
   },
   "source": [
    "<a id = 'corr'></a>\n",
    "### Checking the correlation of the independent feature with the dependent feature\n",
    "\n",
    "Correlation is a statistical technique that can show whether and how strongly pairs of variables are related.An intelligent correlation analysis can lead to a greater understanding of your data"
   ]
  },
  {
   "cell_type": "code",
   "execution_count": 16,
   "metadata": {
    "colab": {
     "base_uri": "https://localhost:8080/"
    },
    "id": "ON5kqv82IgL_",
    "outputId": "fc28d1a3-568d-4ec4-bee5-4125228b3997",
    "tags": []
   },
   "outputs": [
    {
     "data": {
      "text/plain": [
       "CRIM      -0.393057\n",
       "ZN         0.366270\n",
       "INDUS     -0.488006\n",
       "CHAS       0.176896\n",
       "NOX       -0.427658\n",
       "RM         0.693071\n",
       "AGE       -0.374692\n",
       "DIS        0.252464\n",
       "RAD       -0.388123\n",
       "TAX       -0.475074\n",
       "PTRATIO   -0.525636\n",
       "B          0.336935\n",
       "LSTAT     -0.740927\n",
       "PRICE      1.000000\n",
       "Name: PRICE, dtype: float64"
      ]
     },
     "execution_count": 16,
     "metadata": {},
     "output_type": "execute_result"
    }
   ],
   "source": [
    "correlation = data.corr()\n",
    "correlation.loc['PRICE']"
   ]
  },
  {
   "cell_type": "code",
   "execution_count": 17,
   "metadata": {
    "colab": {
     "base_uri": "https://localhost:8080/",
     "height": 1000
    },
    "id": "vpDupiAbIgMA",
    "outputId": "5aa68b70-cfaa-4b16-c2e7-41e69b21517c",
    "tags": []
   },
   "outputs": [
    {
     "data": {
      "text/plain": [
       "<AxesSubplot:>"
      ]
     },
     "execution_count": 17,
     "metadata": {},
     "output_type": "execute_result"
    },
    {
     "data": {
      "image/png": "[encoded data removed]",
      "text/plain": [
       "<Figure size 1080x864 with 2 Axes>"
      ]
     },
     "metadata": {
      "needs_background": "light"
     },
     "output_type": "display_data"
    }
   ],
   "source": [
    "import matplotlib.pyplot as plt\n",
    "fig,axes = plt.subplots(figsize=(15,12))\n",
    "sns.heatmap(correlation,square = True,annot = True)"
   ]
  },
  {
   "cell_type": "markdown",
   "metadata": {
    "id": "dfEgfjX7IgMA"
   },
   "source": [
    "By looking at the correlation plot LSAT is negatively correlated with -0.75 and RM is positively correlated to the price and PTRATIO is correlated negatively with -0.51"
   ]
  },
  {
   "cell_type": "code",
   "execution_count": 18,
   "metadata": {
    "colab": {
     "base_uri": "https://localhost:8080/",
     "height": 452
    },
    "id": "M_LJ7ZQnIgMA",
    "outputId": "6b99dfd6-c2fb-43b0-9941-dde20ff9eba2",
    "tags": []
   },
   "outputs": [
    {
     "data": {
      "image/png": "[encoded data removed]",
      "text/plain": [
       "<Figure size 1440x360 with 3 Axes>"
      ]
     },
     "metadata": {
      "needs_background": "light"
     },
     "output_type": "display_data"
    }
   ],
   "source": [
    "plt.figure(figsize = (20,5))\n",
    "features = ['LSTAT','RM','PTRATIO']\n",
    "for i, col in enumerate(features):\n",
    "    plt.subplot(1, len(features) , i+1)\n",
    "    x = data[col]\n",
    "    y = data.PRICE\n",
    "    plt.scatter(x, y, marker='o')\n",
    "    plt.title(\"Variation in House prices\")\n",
    "    plt.xlabel(col)\n",
    "    plt.ylabel('\"House prices in $1000\"')"
   ]
  },
  {
   "cell_type": "markdown",
   "metadata": {
    "id": "_Tx7onnQIgMB"
   },
   "source": [
    "<a id = 'split'></a>\n",
    "### Splitting the dependent feature and independent feature "
   ]
  },
  {
   "cell_type": "code",
   "execution_count": 19,
   "metadata": {
    "id": "MviY_AvEIgMB",
    "tags": []
   },
   "outputs": [],
   "source": [
    "X = data.iloc[:,:-1]\n",
    "y= data.PRICE"
   ]
  },
  {
   "cell_type": "code",
   "execution_count": 20,
   "metadata": {
    "id": "_Qa8yCZuOCZC"
   },
   "outputs": [
    {
     "name": "stdout",
     "output_type": "stream",
     "text": [
      "Collecting mord\n",
      "  Downloading mord-0.6.tar.gz (4.7 kB)\n",
      "Building wheels for collected packages: mord\n",
      "  Building wheel for mord (setup.py) ... \u001b[?25ldone\n",
      "\u001b[?25h  Created wheel for mord: filename=mord-0.6-py3-none-any.whl size=6006 sha256=06d6f6fe583304573b7aa3e3eda8ab3ddafcc0ae3dab26746a19fc93731f8c4e\n",
      "  Stored in directory: /home/slp/.cache/pip/wheels/1e/fa/70/c1078bd598530116799d668f190e1c52f713cd9329dcb2df37\n",
      "Successfully built mord\n",
      "Installing collected packages: mord\n",
      "Successfully installed mord-0.6\n"
     ]
    }
   ],
   "source": [
    "!pip install mord"
   ]
  },
  {
   "cell_type": "code",
   "execution_count": 22,
   "metadata": {},
   "outputs": [
    {
     "name": "stdout",
     "output_type": "stream",
     "text": [
      "Requirement already satisfied: tabulate in /home/slp/anaconda3/lib/python3.9/site-packages (0.9.0)\r\n"
     ]
    }
   ],
   "source": [
    "!pip install tabulate"
   ]
  },
  {
   "cell_type": "code",
   "execution_count": 23,
   "metadata": {
    "colab": {
     "base_uri": "https://localhost:8080/"
    },
    "id": "Nqy-tpk7N-Lg",
    "outputId": "4f1ddf17-6d41-4847-f9da-dc09be1572fc"
   },
   "outputs": [
    {
     "name": "stdout",
     "output_type": "stream",
     "text": [
      "+----------------------------------+----------------------+------------+\n",
      "| Model                            |   Mean Squared Error |   R2 Score |\n",
      "+==================================+======================+============+\n",
      "| Polynomial Regression            |              15.367  |   0.825619 |\n",
      "+----------------------------------+----------------------+------------+\n",
      "| Lasso Regression                 |              19.8478 |   0.774772 |\n",
      "+----------------------------------+----------------------+------------+\n",
      "| Partial Least Squares Regression |              20.5179 |   0.767167 |\n",
      "+----------------------------------+----------------------+------------+\n",
      "| Ordinal Regression               |              20.4365 |   0.768091 |\n",
      "+----------------------------------+----------------------+------------+\n",
      "| Linear Regression                |              20.1437 |   0.771415 |\n",
      "+----------------------------------+----------------------+------------+\n"
     ]
    }
   ],
   "source": [
    "import numpy as np\n",
    "# from sklearn.datasets import load_boston\n",
    "from sklearn.model_selection import train_test_split\n",
    "from sklearn.linear_model import LinearRegression, Lasso\n",
    "from sklearn.preprocessing import PolynomialFeatures, StandardScaler\n",
    "from sklearn.pipeline import make_pipeline\n",
    "from sklearn.metrics import mean_squared_error, r2_score\n",
    "from sklearn.cross_decomposition import PLSRegression\n",
    "from mord import OrdinalRidge\n",
    "from tabulate import tabulate\n",
    "\n",
    "\n",
    "\n",
    "X_train, X_test, y_train, y_test = train_test_split(X, y, test_size=0.2, random_state=42)\n",
    "\n",
    "# Polynomial Regression\n",
    "poly_reg = make_pipeline(PolynomialFeatures(degree=2), StandardScaler(), LinearRegression())\n",
    "poly_reg.fit(X_train, y_train)\n",
    "y_pred_poly = poly_reg.predict(X_test)\n",
    "poly_mse = mean_squared_error(y_test, y_pred_poly)\n",
    "poly_r2 = r2_score(y_test, y_pred_poly)\n",
    "\n",
    "# Lasso Regression\n",
    "lasso_reg = make_pipeline(StandardScaler(), Lasso(alpha=0.1))\n",
    "lasso_reg.fit(X_train, y_train)\n",
    "y_pred_lasso = lasso_reg.predict(X_test)\n",
    "lasso_mse = mean_squared_error(y_test, y_pred_lasso)\n",
    "lasso_r2 = r2_score(y_test, y_pred_lasso)\n",
    "\n",
    "# Partial Least Squares Regression\n",
    "pls_reg = make_pipeline(StandardScaler(), PLSRegression(n_components=5))\n",
    "pls_reg.fit(X_train, y_train)\n",
    "y_pred_pls = pls_reg.predict(X_test)\n",
    "pls_mse = mean_squared_error(y_test, y_pred_pls)\n",
    "pls_r2 = r2_score(y_test, y_pred_pls)\n",
    "\n",
    "# Ordinal Regression\n",
    "ordinal_reg = OrdinalRidge(alpha=0.1)\n",
    "ordinal_reg.fit(X_train, y_train)\n",
    "y_pred_ordinal = ordinal_reg.predict(X_test)\n",
    "ordinal_mse = mean_squared_error(y_test, y_pred_ordinal)\n",
    "ordinal_r2 = r2_score(y_test, y_pred_ordinal)\n",
    "\n",
    "# Linear Regression\n",
    "linear_reg = LinearRegression()\n",
    "linear_reg.fit(X_train, y_train)\n",
    "y_pred_linear = linear_reg.predict(X_test)\n",
    "linear_mse = mean_squared_error(y_test, y_pred_linear)\n",
    "linear_r2 = r2_score(y_test, y_pred_linear)\n",
    "\n",
    "\n",
    "table = [\n",
    "    [\"Polynomial Regression\", poly_mse, poly_r2],\n",
    "    [\"Lasso Regression\", lasso_mse, lasso_r2],\n",
    "    [\"Partial Least Squares Regression\", pls_mse, pls_r2],\n",
    "    [\"Ordinal Regression\", ordinal_mse, ordinal_r2],\n",
    "    [\"Linear Regression\", linear_mse, linear_r2]\n",
    "]\n",
    "\n",
    "\n",
    "headers = [\"Model\", \"Mean Squared Error\", \"R2 Score\"]\n",
    "print(tabulate(table, headers, tablefmt=\"grid\"))\n"
   ]
  },
  {
   "cell_type": "markdown",
   "metadata": {
    "id": "8UUt9tVPIgMC"
   },
   "source": [
    "<a id  = 'NN'></a>\n",
    "## Neural Networks"
   ]
  },
  {
   "cell_type": "code",
   "execution_count": 24,
   "metadata": {
    "id": "pNimFbIoIgMC",
    "tags": []
   },
   "outputs": [],
   "source": [
    "from sklearn.preprocessing import StandardScaler\n",
    "sc = StandardScaler()\n",
    "X_train = sc.fit_transform(X_train)\n",
    "X_test = sc.transform(X_test)"
   ]
  },
  {
   "cell_type": "code",
   "execution_count": 25,
   "metadata": {
    "id": "Uw5c8XJzIgMC",
    "tags": []
   },
   "outputs": [
    {
     "name": "stderr",
     "output_type": "stream",
     "text": [
      "2023-05-16 10:46:26.041441: I tensorflow/core/platform/cpu_feature_guard.cc:193] This TensorFlow binary is optimized with oneAPI Deep Neural Network Library (oneDNN) to use the following CPU instructions in performance-critical operations:  AVX2 FMA\n",
      "To enable them in other operations, rebuild TensorFlow with the appropriate compiler flags.\n",
      "2023-05-16 10:46:30.935623: W tensorflow/stream_executor/platform/default/dso_loader.cc:64] Could not load dynamic library 'libcudart.so.11.0'; dlerror: libcudart.so.11.0: cannot open shared object file: No such file or directory\n",
      "2023-05-16 10:46:30.935683: I tensorflow/stream_executor/cuda/cudart_stub.cc:29] Ignore above cudart dlerror if you do not have a GPU set up on your machine.\n",
      "2023-05-16 10:46:31.418382: E tensorflow/stream_executor/cuda/cuda_blas.cc:2981] Unable to register cuBLAS factory: Attempting to register factory for plugin cuBLAS when one has already been registered\n",
      "2023-05-16 10:46:39.098722: W tensorflow/stream_executor/platform/default/dso_loader.cc:64] Could not load dynamic library 'libnvinfer.so.7'; dlerror: libnvinfer.so.7: cannot open shared object file: No such file or directory\n",
      "2023-05-16 10:46:39.099096: W tensorflow/stream_executor/platform/default/dso_loader.cc:64] Could not load dynamic library 'libnvinfer_plugin.so.7'; dlerror: libnvinfer_plugin.so.7: cannot open shared object file: No such file or directory\n",
      "2023-05-16 10:46:39.099123: W tensorflow/compiler/tf2tensorrt/utils/py_utils.cc:38] TF-TRT Warning: Cannot dlopen some TensorRT libraries. If you would like to use Nvidia GPU with TensorRT, please make sure the missing libraries mentioned above are installed properly.\n",
      "2023-05-16 10:46:44.235505: I tensorflow/stream_executor/cuda/cuda_gpu_executor.cc:980] successful NUMA node read from SysFS had negative value (-1), but there must be at least one NUMA node, so returning NUMA node zero\n",
      "2023-05-16 10:46:44.236104: W tensorflow/stream_executor/platform/default/dso_loader.cc:64] Could not load dynamic library 'libcudart.so.11.0'; dlerror: libcudart.so.11.0: cannot open shared object file: No such file or directory\n",
      "2023-05-16 10:46:44.236213: W tensorflow/stream_executor/platform/default/dso_loader.cc:64] Could not load dynamic library 'libcublas.so.11'; dlerror: libcublas.so.11: cannot open shared object file: No such file or directory\n",
      "2023-05-16 10:46:44.236309: W tensorflow/stream_executor/platform/default/dso_loader.cc:64] Could not load dynamic library 'libcublasLt.so.11'; dlerror: libcublasLt.so.11: cannot open shared object file: No such file or directory\n",
      "2023-05-16 10:46:44.236400: W tensorflow/stream_executor/platform/default/dso_loader.cc:64] Could not load dynamic library 'libcufft.so.10'; dlerror: libcufft.so.10: cannot open shared object file: No such file or directory\n",
      "2023-05-16 10:46:44.236486: W tensorflow/stream_executor/platform/default/dso_loader.cc:64] Could not load dynamic library 'libcurand.so.10'; dlerror: libcurand.so.10: cannot open shared object file: No such file or directory\n",
      "2023-05-16 10:46:44.236575: W tensorflow/stream_executor/platform/default/dso_loader.cc:64] Could not load dynamic library 'libcusolver.so.11'; dlerror: libcusolver.so.11: cannot open shared object file: No such file or directory\n",
      "2023-05-16 10:46:44.236664: W tensorflow/stream_executor/platform/default/dso_loader.cc:64] Could not load dynamic library 'libcusparse.so.11'; dlerror: libcusparse.so.11: cannot open shared object file: No such file or directory\n",
      "2023-05-16 10:46:44.236750: W tensorflow/stream_executor/platform/default/dso_loader.cc:64] Could not load dynamic library 'libcudnn.so.8'; dlerror: libcudnn.so.8: cannot open shared object file: No such file or directory\n",
      "2023-05-16 10:46:44.236764: W tensorflow/core/common_runtime/gpu/gpu_device.cc:1934] Cannot dlopen some GPU libraries. Please make sure the missing libraries mentioned above are installed properly if you would like to use GPU. Follow the guide at https://www.tensorflow.org/install/gpu for how to download and setup the required libraries for your platform.\n",
      "Skipping registering GPU devices...\n",
      "2023-05-16 10:46:44.257822: I tensorflow/core/platform/cpu_feature_guard.cc:193] This TensorFlow binary is optimized with oneAPI Deep Neural Network Library (oneDNN) to use the following CPU instructions in performance-critical operations:  AVX2 FMA\n",
      "To enable them in other operations, rebuild TensorFlow with the appropriate compiler flags.\n"
     ]
    }
   ],
   "source": [
    "import keras\n",
    "from keras.layers import Dense, Activation,Dropout\n",
    "from keras.models import Sequential\n",
    "\n",
    "model = Sequential()\n",
    "\n",
    "model.add(Dense(128,activation  = 'relu',input_dim =13))\n",
    "model.add(Dense(64,activation  = 'relu'))\n",
    "model.add(Dense(32,activation  = 'relu'))\n",
    "model.add(Dense(16,activation  = 'relu'))\n",
    "# model.add(Dense(8,activation  = 'relu'))\n",
    "model.add(Dense(1))\n",
    "model.compile(optimizer = 'adam',loss = 'mean_squared_error')"
   ]
  },
  {
   "cell_type": "code",
   "execution_count": 26,
   "metadata": {},
   "outputs": [
    {
     "name": "stdout",
     "output_type": "stream",
     "text": [
      "Model: \"sequential\"\n",
      "_________________________________________________________________\n",
      " Layer (type)                Output Shape              Param #   \n",
      "=================================================================\n",
      " dense (Dense)               (None, 128)               1792      \n",
      "                                                                 \n",
      " dense_1 (Dense)             (None, 64)                8256      \n",
      "                                                                 \n",
      " dense_2 (Dense)             (None, 32)                2080      \n",
      "                                                                 \n",
      " dense_3 (Dense)             (None, 16)                528       \n",
      "                                                                 \n",
      " dense_4 (Dense)             (None, 1)                 17        \n",
      "                                                                 \n",
      "=================================================================\n",
      "Total params: 12,673\n",
      "Trainable params: 12,673\n",
      "Non-trainable params: 0\n",
      "_________________________________________________________________\n"
     ]
    }
   ],
   "source": [
    "model.summary()\n"
   ]
  },
  {
   "cell_type": "code",
   "execution_count": 27,
   "metadata": {},
   "outputs": [
    {
     "name": "stdout",
     "output_type": "stream",
     "text": [
      "Collecting graphviz\n",
      "  Downloading graphviz-0.20.1-py3-none-any.whl (47 kB)\n",
      "\u001b[K     |████████████████████████████████| 47 kB 246 kB/s eta 0:00:01\n",
      "\u001b[?25hInstalling collected packages: graphviz\n",
      "Successfully installed graphviz-0.20.1\n"
     ]
    }
   ],
   "source": [
    "!pip install graphviz"
   ]
  },
  {
   "cell_type": "code",
   "execution_count": 28,
   "metadata": {},
   "outputs": [
    {
     "name": "stdout",
     "output_type": "stream",
     "text": [
      "You must install pydot (`pip install pydot`) and install graphviz (see instructions at https://graphviz.gitlab.io/download/) for plot_model to work.\n"
     ]
    }
   ],
   "source": [
    "from keras.utils.vis_utils import plot_model\n",
    "plot_model(model, to_file='model_plot.png', show_shapes=True, show_layer_names=True)"
   ]
  },
  {
   "cell_type": "code",
   "execution_count": 29,
   "metadata": {
    "colab": {
     "base_uri": "https://localhost:8080/"
    },
    "id": "4-paByj-IgMD",
    "outputId": "a60d6351-60b1-459b-93db-dfba5d3ff2d5",
    "tags": []
   },
   "outputs": [
    {
     "name": "stdout",
     "output_type": "stream",
     "text": [
      "Epoch 1/100\n",
      "13/13 [==============================] - 1s 2ms/step - loss: 576.2429\n",
      "Epoch 2/100\n",
      "13/13 [==============================] - 0s 1ms/step - loss: 498.5286\n",
      "Epoch 3/100\n",
      "13/13 [==============================] - 0s 2ms/step - loss: 325.5082\n",
      "Epoch 4/100\n",
      "13/13 [==============================] - 0s 2ms/step - loss: 107.1888\n",
      "Epoch 5/100\n",
      "13/13 [==============================] - 0s 2ms/step - loss: 59.0969\n",
      "Epoch 6/100\n",
      "13/13 [==============================] - 0s 2ms/step - loss: 36.9095\n",
      "Epoch 7/100\n",
      "13/13 [==============================] - 0s 2ms/step - loss: 28.6577\n",
      "Epoch 8/100\n",
      "13/13 [==============================] - 0s 1ms/step - loss: 25.4367\n",
      "Epoch 9/100\n",
      "13/13 [==============================] - 0s 1ms/step - loss: 22.5350\n",
      "Epoch 10/100\n",
      "13/13 [==============================] - 0s 2ms/step - loss: 20.7105\n",
      "Epoch 11/100\n",
      "13/13 [==============================] - 0s 1ms/step - loss: 18.7172\n",
      "Epoch 12/100\n",
      "13/13 [==============================] - 0s 2ms/step - loss: 17.8538\n",
      "Epoch 13/100\n",
      "13/13 [==============================] - 0s 2ms/step - loss: 17.3077\n",
      "Epoch 14/100\n",
      "13/13 [==============================] - 0s 2ms/step - loss: 15.7702\n",
      "Epoch 15/100\n",
      "13/13 [==============================] - 0s 1ms/step - loss: 15.2468\n",
      "Epoch 16/100\n",
      "13/13 [==============================] - 0s 1ms/step - loss: 14.6715\n",
      "Epoch 17/100\n",
      "13/13 [==============================] - 0s 1ms/step - loss: 14.3785\n",
      "Epoch 18/100\n",
      "13/13 [==============================] - 0s 1ms/step - loss: 13.8417\n",
      "Epoch 19/100\n",
      "13/13 [==============================] - 0s 1ms/step - loss: 13.2539\n",
      "Epoch 20/100\n",
      "13/13 [==============================] - 0s 2ms/step - loss: 13.0476\n",
      "Epoch 21/100\n",
      "13/13 [==============================] - 0s 1ms/step - loss: 12.6997\n",
      "Epoch 22/100\n",
      "13/13 [==============================] - 0s 1ms/step - loss: 13.2446\n",
      "Epoch 23/100\n",
      "13/13 [==============================] - 0s 2ms/step - loss: 12.5295\n",
      "Epoch 24/100\n",
      "13/13 [==============================] - 0s 1ms/step - loss: 13.2432\n",
      "Epoch 25/100\n",
      "13/13 [==============================] - 0s 1ms/step - loss: 12.0129\n",
      "Epoch 26/100\n",
      "13/13 [==============================] - 0s 1ms/step - loss: 12.7481\n",
      "Epoch 27/100\n",
      "13/13 [==============================] - 0s 1ms/step - loss: 11.7674\n",
      "Epoch 28/100\n",
      "13/13 [==============================] - 0s 2ms/step - loss: 11.0184\n",
      "Epoch 29/100\n",
      "13/13 [==============================] - 0s 2ms/step - loss: 10.9755\n",
      "Epoch 30/100\n",
      "13/13 [==============================] - 0s 2ms/step - loss: 10.4670\n",
      "Epoch 31/100\n",
      "13/13 [==============================] - 0s 2ms/step - loss: 10.4219\n",
      "Epoch 32/100\n",
      "13/13 [==============================] - 0s 1ms/step - loss: 9.9415\n",
      "Epoch 33/100\n",
      "13/13 [==============================] - 0s 2ms/step - loss: 9.9033\n",
      "Epoch 34/100\n",
      "13/13 [==============================] - 0s 2ms/step - loss: 9.7593\n",
      "Epoch 35/100\n",
      "13/13 [==============================] - 0s 1ms/step - loss: 9.4158\n",
      "Epoch 36/100\n",
      "13/13 [==============================] - 0s 2ms/step - loss: 9.4094\n",
      "Epoch 37/100\n",
      "13/13 [==============================] - 0s 1ms/step - loss: 9.3492\n",
      "Epoch 38/100\n",
      "13/13 [==============================] - 0s 1ms/step - loss: 8.9645\n",
      "Epoch 39/100\n",
      "13/13 [==============================] - 0s 1ms/step - loss: 8.9153\n",
      "Epoch 40/100\n",
      "13/13 [==============================] - 0s 1ms/step - loss: 8.6748\n",
      "Epoch 41/100\n",
      "13/13 [==============================] - 0s 1ms/step - loss: 10.3093\n",
      "Epoch 42/100\n",
      "13/13 [==============================] - 0s 1ms/step - loss: 9.5290\n",
      "Epoch 43/100\n",
      "13/13 [==============================] - 0s 2ms/step - loss: 9.2199\n",
      "Epoch 44/100\n",
      "13/13 [==============================] - 0s 2ms/step - loss: 8.0999\n",
      "Epoch 45/100\n",
      "13/13 [==============================] - 0s 2ms/step - loss: 8.0803\n",
      "Epoch 46/100\n",
      "13/13 [==============================] - 0s 1ms/step - loss: 7.8936\n",
      "Epoch 47/100\n",
      "13/13 [==============================] - 0s 1ms/step - loss: 7.7263\n",
      "Epoch 48/100\n",
      "13/13 [==============================] - 0s 1ms/step - loss: 7.8339\n",
      "Epoch 49/100\n",
      "13/13 [==============================] - 0s 2ms/step - loss: 7.1589\n",
      "Epoch 50/100\n",
      "13/13 [==============================] - 0s 1ms/step - loss: 7.1272\n",
      "Epoch 51/100\n",
      "13/13 [==============================] - 0s 1ms/step - loss: 6.8464\n",
      "Epoch 52/100\n",
      "13/13 [==============================] - 0s 2ms/step - loss: 6.7632\n",
      "Epoch 53/100\n",
      "13/13 [==============================] - 0s 1ms/step - loss: 6.8231\n",
      "Epoch 54/100\n",
      "13/13 [==============================] - 0s 1ms/step - loss: 6.4792\n",
      "Epoch 55/100\n",
      "13/13 [==============================] - 0s 1ms/step - loss: 6.2645\n",
      "Epoch 56/100\n",
      "13/13 [==============================] - 0s 1ms/step - loss: 6.2357\n",
      "Epoch 57/100\n",
      "13/13 [==============================] - 0s 1ms/step - loss: 6.1210\n",
      "Epoch 58/100\n",
      "13/13 [==============================] - 0s 2ms/step - loss: 6.7518\n",
      "Epoch 59/100\n",
      "13/13 [==============================] - 0s 1ms/step - loss: 6.0520\n",
      "Epoch 60/100\n",
      "13/13 [==============================] - 0s 1ms/step - loss: 6.6905\n",
      "Epoch 61/100\n",
      "13/13 [==============================] - 0s 2ms/step - loss: 7.0702\n",
      "Epoch 62/100\n",
      "13/13 [==============================] - 0s 1ms/step - loss: 5.6385\n",
      "Epoch 63/100\n",
      "13/13 [==============================] - 0s 1ms/step - loss: 5.6160\n",
      "Epoch 64/100\n",
      "13/13 [==============================] - 0s 2ms/step - loss: 5.4472\n",
      "Epoch 65/100\n",
      "13/13 [==============================] - 0s 2ms/step - loss: 5.6130\n",
      "Epoch 66/100\n",
      "13/13 [==============================] - 0s 1ms/step - loss: 5.5382\n",
      "Epoch 67/100\n",
      "13/13 [==============================] - 0s 1ms/step - loss: 5.7220\n",
      "Epoch 68/100\n",
      "13/13 [==============================] - 0s 2ms/step - loss: 5.3244\n",
      "Epoch 69/100\n",
      "13/13 [==============================] - 0s 2ms/step - loss: 4.9931\n",
      "Epoch 70/100\n",
      "13/13 [==============================] - 0s 2ms/step - loss: 5.3964\n",
      "Epoch 71/100\n",
      "13/13 [==============================] - 0s 2ms/step - loss: 5.2192\n",
      "Epoch 72/100\n",
      "13/13 [==============================] - 0s 1ms/step - loss: 5.1046\n",
      "Epoch 73/100\n",
      "13/13 [==============================] - 0s 1ms/step - loss: 4.9571\n",
      "Epoch 74/100\n",
      "13/13 [==============================] - 0s 1ms/step - loss: 4.7902\n",
      "Epoch 75/100\n",
      "13/13 [==============================] - 0s 1ms/step - loss: 4.8760\n",
      "Epoch 76/100\n",
      "13/13 [==============================] - 0s 1ms/step - loss: 4.8448\n",
      "Epoch 77/100\n",
      "13/13 [==============================] - 0s 2ms/step - loss: 5.7026\n",
      "Epoch 78/100\n",
      "13/13 [==============================] - 0s 1ms/step - loss: 4.6698\n",
      "Epoch 79/100\n",
      "13/13 [==============================] - 0s 1ms/step - loss: 4.7446\n",
      "Epoch 80/100\n",
      "13/13 [==============================] - 0s 1ms/step - loss: 4.8303\n",
      "Epoch 81/100\n",
      "13/13 [==============================] - 0s 2ms/step - loss: 4.5782\n",
      "Epoch 82/100\n",
      "13/13 [==============================] - 0s 1ms/step - loss: 4.2856\n",
      "Epoch 83/100\n",
      "13/13 [==============================] - 0s 1ms/step - loss: 4.2123\n",
      "Epoch 84/100\n",
      "13/13 [==============================] - 0s 1ms/step - loss: 4.1887\n",
      "Epoch 85/100\n",
      "13/13 [==============================] - 0s 1ms/step - loss: 4.2737\n",
      "Epoch 86/100\n",
      "13/13 [==============================] - 0s 1ms/step - loss: 4.0028\n",
      "Epoch 87/100\n",
      "13/13 [==============================] - 0s 1ms/step - loss: 4.0774\n",
      "Epoch 88/100\n",
      "13/13 [==============================] - 0s 2ms/step - loss: 4.4966\n",
      "Epoch 89/100\n",
      "13/13 [==============================] - 0s 2ms/step - loss: 5.3140\n",
      "Epoch 90/100\n",
      "13/13 [==============================] - 0s 1ms/step - loss: 4.5279\n",
      "Epoch 91/100\n",
      "13/13 [==============================] - 0s 1ms/step - loss: 4.1155\n",
      "Epoch 92/100\n",
      "13/13 [==============================] - 0s 1ms/step - loss: 3.8933\n",
      "Epoch 93/100\n",
      "13/13 [==============================] - 0s 1ms/step - loss: 3.7395\n",
      "Epoch 94/100\n",
      "13/13 [==============================] - 0s 2ms/step - loss: 3.9481\n",
      "Epoch 95/100\n",
      "13/13 [==============================] - 0s 1ms/step - loss: 3.9418\n",
      "Epoch 96/100\n",
      "13/13 [==============================] - 0s 1ms/step - loss: 3.7888\n",
      "Epoch 97/100\n",
      "13/13 [==============================] - 0s 1ms/step - loss: 3.7183\n",
      "Epoch 98/100\n",
      "13/13 [==============================] - 0s 1ms/step - loss: 3.7229\n",
      "Epoch 99/100\n",
      "13/13 [==============================] - 0s 1ms/step - loss: 3.8459\n",
      "Epoch 100/100\n",
      "13/13 [==============================] - 0s 1ms/step - loss: 4.3135\n"
     ]
    },
    {
     "data": {
      "text/plain": [
       "<keras.callbacks.History at 0x7fee9c2f9fd0>"
      ]
     },
     "execution_count": 29,
     "metadata": {},
     "output_type": "execute_result"
    }
   ],
   "source": [
    "model.fit(X_train, y_train, epochs = 100)"
   ]
  },
  {
   "cell_type": "markdown",
   "metadata": {
    "id": "xulfMqS7IgMD"
   },
   "source": [
    "<a id = 'eval'></a>\n",
    "### Evaluation of the model"
   ]
  },
  {
   "cell_type": "code",
   "execution_count": 30,
   "metadata": {
    "colab": {
     "base_uri": "https://localhost:8080/"
    },
    "id": "DXhZJhS7IgME",
    "outputId": "664d3150-3eba-470f-d1df-8d5441eee7e9",
    "tags": []
   },
   "outputs": [
    {
     "name": "stdout",
     "output_type": "stream",
     "text": [
      "4/4 [==============================] - 0s 2ms/step\n"
     ]
    }
   ],
   "source": [
    "y_pred_nn = model.predict(X_test)\n",
    "nn_mse = mean_squared_error(y_test, y_pred_nn)"
   ]
  },
  {
   "cell_type": "code",
   "execution_count": 31,
   "metadata": {
    "colab": {
     "base_uri": "https://localhost:8080/"
    },
    "id": "8Br3Mf5yIgME",
    "outputId": "eab967a4-0a6d-4640-fed7-4da51905bf16",
    "tags": []
   },
   "outputs": [
    {
     "name": "stdout",
     "output_type": "stream",
     "text": [
      "0.873360360107623\n"
     ]
    }
   ],
   "source": [
    "from sklearn.metrics import r2_score\n",
    "nn_r2 = r2_score(y_test, y_pred_nn)\n",
    "print(nn_r2)"
   ]
  },
  {
   "cell_type": "code",
   "execution_count": 32,
   "metadata": {
    "colab": {
     "base_uri": "https://localhost:8080/"
    },
    "id": "5-xks9lZSPAi",
    "outputId": "b4f28a46-fbc9-4eaf-bc8b-4815ed444aad"
   },
   "outputs": [
    {
     "name": "stdout",
     "output_type": "stream",
     "text": [
      "Model                               Mean Squared Error    R2 Score\n",
      "--------------------------------  --------------------  ----------\n",
      "Polynomial Regression                          15.367     0.825619\n",
      "Lasso Regression                               19.8478    0.774772\n",
      "Partial Least Squares Regression               20.5179    0.767167\n",
      "Ordinal Regression                             20.4365    0.768091\n",
      "Linear Regression                              20.1437    0.771415\n",
      "Neural Network Regression Model                11.1599    0.87336\n"
     ]
    }
   ],
   "source": [
    "table = [\n",
    "    [\"Polynomial Regression\", poly_mse, poly_r2],\n",
    "    [\"Lasso Regression\", lasso_mse, lasso_r2],\n",
    "    [\"Partial Least Squares Regression\", pls_mse, pls_r2],\n",
    "    [\"Ordinal Regression\", ordinal_mse, ordinal_r2],\n",
    "    [\"Linear Regression\", linear_mse, linear_r2],\n",
    "    [\"Neural Network Regression Model\",nn_mse,nn_r2 ]\n",
    "]\n",
    "\n",
    "\n",
    "headers = [\"Model\", \"Mean Squared Error\", \"R2 Score\"]\n",
    "print(tabulate(table, headers, tablefmt=\"markdown\"))"
   ]
  }
 ],
 "metadata": {
  "colab": {
   "provenance": []
  },
  "kernelspec": {
   "display_name": "Python 3 (ipykernel)",
   "language": "python",
   "name": "python3"
  },
  "language_info": {
   "codemirror_mode": {
    "name": "ipython",
    "version": 3
   },
   "file_extension": ".py",
   "mimetype": "text/x-python",
   "name": "python",
   "nbconvert_exporter": "python",
   "pygments_lexer": "ipython3",
   "version": "3.9.7"
  }
 },
 "nbformat": 4,
 "nbformat_minor": 4
}

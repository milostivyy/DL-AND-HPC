{
  "nbformat": 4,
  "nbformat_minor": 0,
  "metadata": {
    "colab": {
      "provenance": [],
      "toc_visible": true
    },
    "kernelspec": {
      "name": "python3",
      "display_name": "Python 3"
    },
    "language_info": {
      "name": "python"
    }
  },
  "cells": [
    {
      "cell_type": "code",
      "execution_count": null,
      "metadata": {
        "id": "Igkr-HOXKu22"
      },
      "outputs": [],
      "source": [
        "import numpy as np\n",
        "import pandas as pd\n",
        "import tensorflow as tf\n",
        "from sklearn.model_selection import train_test_split\n",
        "from sklearn.preprocessing import OneHotEncoder"
      ]
    },
    {
      "cell_type": "code",
      "source": [
        "# Load the dataset\n",
        "url = 'https://archive.ics.uci.edu/ml/machine-learning-databases/letter-recognition/letter-recognition.data'\n",
        "column_names = ['letter', 'x-box', 'y-box', 'width', 'high', 'onpix', 'x-bar', 'y-bar', 'x2bar', 'y2bar', 'xybar', 'x2ybr', 'xy2br', 'x-ege', 'xegvy', 'y-ege', 'yegvx']\n",
        "data = pd.read_csv(url, header=None, names=column_names)"
      ],
      "metadata": {
        "id": "g0FLsub8K1No"
      },
      "execution_count": null,
      "outputs": []
    },
    {
      "cell_type": "code",
      "source": [
        "# Preprocessing\n",
        "features = data.drop('letter', axis=1)\n",
        "target = data['letter']"
      ],
      "metadata": {
        "id": "dwys-w4cLCrM"
      },
      "execution_count": null,
      "outputs": []
    },
    {
      "cell_type": "code",
      "source": [
        "# Splitting the dataset into training and testing sets\n",
        "X_train, X_test, y_train, y_test = train_test_split(features, target, test_size=0.2, random_state=42)"
      ],
      "metadata": {
        "id": "pTDxxoygLE2a"
      },
      "execution_count": null,
      "outputs": []
    },
    {
      "cell_type": "code",
      "source": [
        "# Data Reshaping\n",
        "X_train = X_train.values.reshape(-1, 4, 4, 1)\n",
        "X_test = X_test.values.reshape(-1, 4, 4, 1)"
      ],
      "metadata": {
        "id": "6IHy1OJ5LGzQ"
      },
      "execution_count": null,
      "outputs": []
    },
    {
      "cell_type": "code",
      "source": [
        "# One-Hot Encoding the target variable\n",
        "enc = OneHotEncoder(sparse=False)\n",
        "y_train_encoded = enc.fit_transform(y_train.values.reshape(-1, 1))\n",
        "y_test_encoded = enc.transform(y_test.values.reshape(-1, 1))"
      ],
      "metadata": {
        "colab": {
          "base_uri": "https://localhost:8080/"
        },
        "id": "qTlxhg09LJgX",
        "outputId": "c2bb31e1-c41e-4639-fc2d-3d1310fa1178"
      },
      "execution_count": null,
      "outputs": [
        {
          "output_type": "stream",
          "name": "stderr",
          "text": [
            "/usr/local/lib/python3.10/dist-packages/sklearn/preprocessing/_encoders.py:868: FutureWarning: `sparse` was renamed to `sparse_output` in version 1.2 and will be removed in 1.4. `sparse_output` is ignored unless you leave `sparse` to its default value.\n",
            "  warnings.warn(\n"
          ]
        }
      ]
    },
    {
      "cell_type": "code",
      "source": [
        "# Building the model\n",
        "model = tf.keras.models.Sequential([\n",
        "    tf.keras.layers.Conv2D(32, (3, 3), activation='relu', input_shape=(4, 4, 1)),\n",
        "    tf.keras.layers.MaxPooling2D((2, 2)),\n",
        "    tf.keras.layers.Flatten(),\n",
        "    tf.keras.layers.Dense(64, activation='relu'),\n",
        "    tf.keras.layers.Dense(26, activation='softmax')\n",
        "])"
      ],
      "metadata": {
        "id": "SlQoaNRGLLbq"
      },
      "execution_count": null,
      "outputs": []
    },
    {
      "cell_type": "code",
      "source": [
        "# Compiling the model\n",
        "model.compile(optimizer='adam',\n",
        "              loss='categorical_crossentropy',\n",
        "              metrics=['accuracy'])"
      ],
      "metadata": {
        "id": "L7IAeNevLPAJ"
      },
      "execution_count": null,
      "outputs": []
    },
    {
      "cell_type": "code",
      "source": [
        "# Training the model\n",
        "model.fit(X_train, y_train_encoded, epochs=10, batch_size=32, verbose=1)"
      ],
      "metadata": {
        "colab": {
          "base_uri": "https://localhost:8080/"
        },
        "id": "q7NuO0grLtEw",
        "outputId": "ffe0119d-8723-47bf-e02d-29fd9e95bb61"
      },
      "execution_count": null,
      "outputs": [
        {
          "output_type": "stream",
          "name": "stdout",
          "text": [
            "Epoch 1/10\n",
            "500/500 [==============================] - 4s 5ms/step - loss: 2.3494 - accuracy: 0.3466\n",
            "Epoch 2/10\n",
            "500/500 [==============================] - 1s 2ms/step - loss: 1.4158 - accuracy: 0.6198\n",
            "Epoch 3/10\n",
            "500/500 [==============================] - 1s 2ms/step - loss: 1.1509 - accuracy: 0.6898\n",
            "Epoch 4/10\n",
            "500/500 [==============================] - 1s 2ms/step - loss: 1.0141 - accuracy: 0.7196\n",
            "Epoch 5/10\n",
            "500/500 [==============================] - 1s 2ms/step - loss: 0.9278 - accuracy: 0.7419\n",
            "Epoch 6/10\n",
            "500/500 [==============================] - 1s 3ms/step - loss: 0.8581 - accuracy: 0.7594\n",
            "Epoch 7/10\n",
            "500/500 [==============================] - 2s 3ms/step - loss: 0.8021 - accuracy: 0.7711\n",
            "Epoch 8/10\n",
            "500/500 [==============================] - 1s 2ms/step - loss: 0.7617 - accuracy: 0.7829\n",
            "Epoch 9/10\n",
            "500/500 [==============================] - 1s 2ms/step - loss: 0.7230 - accuracy: 0.7894\n",
            "Epoch 10/10\n",
            "500/500 [==============================] - 1s 2ms/step - loss: 0.6900 - accuracy: 0.8006\n"
          ]
        },
        {
          "output_type": "execute_result",
          "data": {
            "text/plain": [
              "<keras.callbacks.History at 0x7f3c8a23f430>"
            ]
          },
          "metadata": {},
          "execution_count": 10
        }
      ]
    },
    {
      "cell_type": "code",
      "source": [
        "# Evaluating the model\n",
        "loss, accuracy = model.evaluate(X_test, y_test_encoded, verbose=0)\n",
        "print(f'Test Loss: {loss:.4f}')\n",
        "print(f'Test Accuracy: {accuracy:.4f}')\n",
        "\n",
        "# Making predictions on new data\n",
        "new_data = X_test[:10]  # Example: Predicting on the first 10 samples of the test set\n",
        "predictions = model.predict(new_data)\n",
        "predicted_labels = enc.inverse_transform(predictions)\n",
        "print('Predicted Labels:')\n",
        "print(predicted_labels)\n",
        "\n",
        "\n",
        "\n",
        "\n"
      ],
      "metadata": {
        "colab": {
          "base_uri": "https://localhost:8080/"
        },
        "id": "2fjyPeKqLuxp",
        "outputId": "5ebcf4e0-4a0e-4971-b1b7-dddfe5d3fb7e"
      },
      "execution_count": null,
      "outputs": [
        {
          "output_type": "stream",
          "name": "stdout",
          "text": [
            "Test Loss: 0.7006\n",
            "Test Accuracy: 0.7975\n",
            "1/1 [==============================] - 0s 243ms/step\n",
            "Predicted Labels:\n",
            "[['Z']\n",
            " ['C']\n",
            " ['A']\n",
            " ['E']\n",
            " ['Q']\n",
            " ['E']\n",
            " ['O']\n",
            " ['Q']\n",
            " ['G']\n",
            " ['O']]\n"
          ]
        }
      ]
    },
    {
      "cell_type": "code",
      "source": [],
      "metadata": {
        "id": "f1Sl87M6L13Z"
      },
      "execution_count": null,
      "outputs": []
    }
  ]
}